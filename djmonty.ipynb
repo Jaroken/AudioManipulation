{
 "cells": [
  {
   "cell_type": "code",
   "execution_count": null,
   "metadata": {},
   "outputs": [],
   "source": [
    "# be sure to pip install ffmpeg\n",
    "from pytube import YouTube\n",
    "import ffmpeg\n",
    "import imageio\n",
    "#imageio.plugins.ffmpeg.download()\n",
    "from moviepy.editor import *\n",
    "from pydub import AudioSegment\n",
    "import IPython\n",
    "from pathlib import Path\n",
    "import os, sys\n",
    "import matplotlib.pyplot as plt\n",
    "import librosa.display\n",
    "import librosa\n",
    "import numpy as np\n",
    "import wave\n",
    "from datetime import timedelta\n",
    "from IPython.display import YouTubeVideo\n",
    "import IPython.display as ipd\n",
    "from pydub.playback import play\n",
    "%matplotlib inline\n",
    "#pip install ipywidgets\n",
    "#jupyter nbextension enable --py widgetsnbextension"
   ]
  },
  {
   "cell_type": "code",
   "execution_count": null,
   "metadata": {},
   "outputs": [],
   "source": [
    "AudioSegment.converter = r\"C:\\\\Users\\\\PRESTK\\\\Downloads\\\\ffmpeg-20191018-feaec3b-win64-static\\\\ffmpeg-20191018-feaec3b-win64-static\\\\bin\\\\ffmpeg.exe\"\n",
    "AudioSegment.ffmpeg = r\"C:\\\\Users\\\\PRESTK\\\\Downloads\\\\ffmpeg-20191018-feaec3b-win64-static\\\\ffmpeg-20191018-feaec3b-win64-static\\\\bin\\\\ffmpeg.exe\"\n",
    "AudioSegment.ffprobe   = r\"C:\\\\Users\\\\PRESTK\\\\Downloads\\\\ffmpeg-20191018-feaec3b-win64-static\\\\ffmpeg-20191018-feaec3b-win64-static\\\\bin\\\\ffprobe.exe\""
   ]
  },
  {
   "cell_type": "code",
   "execution_count": null,
   "metadata": {},
   "outputs": [],
   "source": [
    "# to download the audio only\n",
    "# yt = YouTube('https://www.youtube.com/watch?v=EWdIElQUI_4').streams.filter(only_audio=True).first().download('C:\\\\Users\\\\PRESTK\\\\Documents\\\\Python Scripts\\\\youtubetomp3\\\\')"
   ]
  },
  {
   "cell_type": "code",
   "execution_count": null,
   "metadata": {},
   "outputs": [],
   "source": [
    "YouTubeVideo(\"EWdIElQUI_4\", autoplay=1, theme=\"light\", color=\"red\")"
   ]
  },
  {
   "cell_type": "code",
   "execution_count": null,
   "metadata": {},
   "outputs": [],
   "source": [
    "# To download the full video\n",
    "yt = YouTube('https://www.youtube.com/watch?v=EWdIElQUI_4').streams.first().download()"
   ]
  },
  {
   "cell_type": "code",
   "execution_count": null,
   "metadata": {},
   "outputs": [],
   "source": [
    "# convert to wav file\n",
    "video = VideoFileClip(yt)\n",
    "video.audio.write_audiofile('C:\\\\Users\\\\PRESTK\\\\Documents\\\\file.wav')"
   ]
  },
  {
   "cell_type": "code",
   "execution_count": null,
   "metadata": {},
   "outputs": [],
   "source": [
    "# Create visuals\n",
    "x, sr = librosa.load('C:\\\\Users\\\\PRESTK\\\\Documents\\\\file.wav')\n",
    "plt.figure(figsize=(14, 5))\n",
    "print('Displaying audio array')\n",
    "librosa.display.waveplot(x, sr=sr)\n",
    "print('And Displaying spectrogram')\n",
    "X = librosa.stft(x)\n",
    "Xdb = librosa.amplitude_to_db(abs(X))\n",
    "plt.figure(figsize=(14, 5))\n",
    "librosa.display.specshow(Xdb, sr=sr, x_axis='time', y_axis='hz')"
   ]
  },
  {
   "cell_type": "code",
   "execution_count": null,
   "metadata": {},
   "outputs": [],
   "source": [
    "# Load in file for se\n",
    "myfile = Path('C:\\\\Users\\\\PRESTK\\\\Documents\\\\file.wav')\n",
    "song = AudioSegment.from_wav(myfile)"
   ]
  },
  {
   "cell_type": "code",
   "execution_count": null,
   "metadata": {},
   "outputs": [],
   "source": [
    "song"
   ]
  },
  {
   "cell_type": "code",
   "execution_count": null,
   "metadata": {},
   "outputs": [],
   "source": [
    "# ipd.Audio('C:\\\\Users\\\\PRESTK\\\\Documents\\\\file.wav') # load a local WAV file"
   ]
  },
  {
   "cell_type": "code",
   "execution_count": null,
   "metadata": {},
   "outputs": [],
   "source": [
    "# Listen backward\n",
    "song.reverse()"
   ]
  },
  {
   "cell_type": "markdown",
   "metadata": {},
   "source": [
    "Start Time"
   ]
  },
  {
   "cell_type": "code",
   "execution_count": null,
   "metadata": {},
   "outputs": [],
   "source": [
    "minute= 0\n",
    "second = 8.5\n",
    "Start = minute*60*1000 + second*1000"
   ]
  },
  {
   "cell_type": "markdown",
   "metadata": {},
   "source": [
    "End Time"
   ]
  },
  {
   "cell_type": "code",
   "execution_count": null,
   "metadata": {},
   "outputs": [],
   "source": [
    "minute= 0\n",
    "second = 39.3\n",
    "End = minute*60*1000 + second*1000"
   ]
  },
  {
   "cell_type": "code",
   "execution_count": null,
   "metadata": {},
   "outputs": [],
   "source": [
    "Cut = song[Start:End]"
   ]
  },
  {
   "cell_type": "code",
   "execution_count": null,
   "metadata": {},
   "outputs": [],
   "source": [
    "Cut"
   ]
  },
  {
   "cell_type": "code",
   "execution_count": null,
   "metadata": {},
   "outputs": [],
   "source": [
    "awesome = Cut.fade_in(2000).fade_out(3000)"
   ]
  },
  {
   "cell_type": "code",
   "execution_count": null,
   "metadata": {},
   "outputs": [],
   "source": [
    "awesome"
   ]
  },
  {
   "cell_type": "code",
   "execution_count": null,
   "metadata": {},
   "outputs": [],
   "source": [
    "# 4 second crossfade\n",
    "with_style = awesome.append(awesome, crossfade=4000)"
   ]
  },
  {
   "cell_type": "code",
   "execution_count": null,
   "metadata": {},
   "outputs": [],
   "source": [
    "with_style"
   ]
  },
  {
   "cell_type": "code",
   "execution_count": null,
   "metadata": {},
   "outputs": [],
   "source": [
    "\n",
    "backwards.export(\"mashup.mp3\", format=\"mp3\")"
   ]
  },
  {
   "cell_type": "code",
   "execution_count": null,
   "metadata": {},
   "outputs": [],
   "source": [
    "ipd.Audio('mashup.mp3')"
   ]
  },
  {
   "cell_type": "code",
   "execution_count": null,
   "metadata": {},
   "outputs": [],
   "source": [
    "def speed_change(sound, speed=1.0):\n",
    "    # Manually override the frame_rate. This tells the computer how many\n",
    "    # samples to play per second\n",
    "    sound_with_altered_frame_rate = sound._spawn(sound.raw_data, overrides={\n",
    "         \"frame_rate\": int(sound.frame_rate * speed)\n",
    "      })\n",
    "     # convert the sound with altered frame rate to a standard frame rate\n",
    "     # so that regular playback programs will work right. They often only\n",
    "     # know how to play audio at standard frame rate (like 44.1k)\n",
    "    return sound_with_altered_frame_rate.set_frame_rate(sound.frame_rate)\n",
    "\n",
    "\n",
    "slow_sound = speed_change(Cut, 0.75)\n",
    "fast_sound = speed_change(Cut, 1.25)"
   ]
  },
  {
   "cell_type": "code",
   "execution_count": null,
   "metadata": {},
   "outputs": [],
   "source": [
    "slow_sound.overlay(fast_sound, position=1000)"
   ]
  },
  {
   "cell_type": "markdown",
   "metadata": {},
   "source": [
    "Exploring building additional functions"
   ]
  },
  {
   "cell_type": "code",
   "execution_count": null,
   "metadata": {},
   "outputs": [],
   "source": [
    "def youtube2wav(link, file):\n",
    "    yt = YouTube(link).streams.first().download()\n",
    "    video = VideoFileClip(yt)\n",
    "    video.audio.write_audiofile(file)\n",
    "    return(AudioSegment.from_wav(file))"
   ]
  },
  {
   "cell_type": "code",
   "execution_count": null,
   "metadata": {},
   "outputs": [],
   "source": [
    "song2 = youtube2wav(link='https://www.youtube.com/watch?v=6d5ST3tbPIU', file='C:\\\\Users\\\\PRESTK\\\\Documents\\\\file2.wav')"
   ]
  }
 ],
 "metadata": {
  "kernelspec": {
   "display_name": "Python 3",
   "language": "python",
   "name": "python3"
  },
  "language_info": {
   "codemirror_mode": {
    "name": "ipython",
    "version": 3
   },
   "file_extension": ".py",
   "mimetype": "text/x-python",
   "name": "python",
   "nbconvert_exporter": "python",
   "pygments_lexer": "ipython3",
   "version": "3.7.4"
  }
 },
 "nbformat": 4,
 "nbformat_minor": 2
}
